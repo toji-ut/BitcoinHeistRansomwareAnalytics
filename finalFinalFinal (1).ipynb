{
  "cells": [
    {
      "cell_type": "code",
      "execution_count": 182,
      "id": "initial_id",
      "metadata": {
        "ExecuteTime": {
          "end_time": "2024-12-17T16:19:41.101498Z",
          "start_time": "2024-12-17T16:19:41.095610Z"
        },
        "collapsed": true,
        "id": "initial_id"
      },
      "outputs": [],
      "source": [
        "import pandas as pd\n",
        "import numpy as np\n",
        "import matplotlib.pyplot as plt\n",
        "import seaborn as sns\n",
        "\n",
        "from sklearn.model_selection import train_test_split\n",
        "from sklearn.ensemble import RandomForestClassifier\n",
        "from sklearn.linear_model import LogisticRegression\n",
        "from sklearn.neighbors import KNeighborsClassifier\n",
        "from sklearn.metrics import (\n",
        "    accuracy_score,\n",
        "    classification_report,\n",
        "    confusion_matrix,\n",
        "    mean_squared_error,\n",
        "    roc_curve,\n",
        "    roc_auc_score\n",
        ")\n",
        "\n",
        "from sklearn.preprocessing import LabelEncoder"
      ]
    },
    {
      "cell_type": "code",
      "execution_count": 183,
      "id": "fd666048b6e1d283",
      "metadata": {
        "ExecuteTime": {
          "end_time": "2024-12-17T16:19:43.929007Z",
          "start_time": "2024-12-17T16:19:41.111297Z"
        },
        "id": "fd666048b6e1d283"
      },
      "outputs": [],
      "source": [
        "df = pd.read_csv('BitcoinHeistData.csv')"
      ]
    },
    {
      "cell_type": "code",
      "execution_count": 184,
      "id": "19d9686842845135",
      "metadata": {
        "ExecuteTime": {
          "end_time": "2024-12-17T16:19:43.969006Z",
          "start_time": "2024-12-17T16:19:43.964072Z"
        },
        "colab": {
          "base_uri": "https://localhost:8080/",
          "height": 363
        },
        "id": "19d9686842845135",
        "outputId": "bc9013f9-d55b-4d52-cadc-2b7305d224ab"
      },
      "outputs": [
        {
          "data": {
            "application/vnd.google.colaboratory.intrinsic+json": {
              "type": "dataframe",
              "variable_name": "df"
            },
            "text/html": [
              "\n",
              "  <div id=\"df-88c2a7f2-620c-48ce-8ef0-4484cb94be18\" class=\"colab-df-container\">\n",
              "    <div>\n",
              "<style scoped>\n",
              "    .dataframe tbody tr th:only-of-type {\n",
              "        vertical-align: middle;\n",
              "    }\n",
              "\n",
              "    .dataframe tbody tr th {\n",
              "        vertical-align: top;\n",
              "    }\n",
              "\n",
              "    .dataframe thead th {\n",
              "        text-align: right;\n",
              "    }\n",
              "</style>\n",
              "<table border=\"1\" class=\"dataframe\">\n",
              "  <thead>\n",
              "    <tr style=\"text-align: right;\">\n",
              "      <th></th>\n",
              "      <th>address</th>\n",
              "      <th>year</th>\n",
              "      <th>day</th>\n",
              "      <th>length</th>\n",
              "      <th>weight</th>\n",
              "      <th>count</th>\n",
              "      <th>looped</th>\n",
              "      <th>neighbors</th>\n",
              "      <th>income</th>\n",
              "      <th>label</th>\n",
              "    </tr>\n",
              "  </thead>\n",
              "  <tbody>\n",
              "    <tr>\n",
              "      <th>0</th>\n",
              "      <td>111K8kZAEnJg245r2cM6y9zgJGHZtJPy6</td>\n",
              "      <td>2017</td>\n",
              "      <td>11</td>\n",
              "      <td>18</td>\n",
              "      <td>8.333333e-03</td>\n",
              "      <td>1</td>\n",
              "      <td>0</td>\n",
              "      <td>2</td>\n",
              "      <td>100050000.0</td>\n",
              "      <td>princetonCerber</td>\n",
              "    </tr>\n",
              "    <tr>\n",
              "      <th>1</th>\n",
              "      <td>1123pJv8jzeFQaCV4w644pzQJzVWay2zcA</td>\n",
              "      <td>2016</td>\n",
              "      <td>132</td>\n",
              "      <td>44</td>\n",
              "      <td>2.441406e-04</td>\n",
              "      <td>1</td>\n",
              "      <td>0</td>\n",
              "      <td>1</td>\n",
              "      <td>100000000.0</td>\n",
              "      <td>princetonLocky</td>\n",
              "    </tr>\n",
              "    <tr>\n",
              "      <th>2</th>\n",
              "      <td>112536im7hy6wtKbpH1qYDWtTyMRAcA2p7</td>\n",
              "      <td>2016</td>\n",
              "      <td>246</td>\n",
              "      <td>0</td>\n",
              "      <td>1.000000e+00</td>\n",
              "      <td>1</td>\n",
              "      <td>0</td>\n",
              "      <td>2</td>\n",
              "      <td>200000000.0</td>\n",
              "      <td>princetonCerber</td>\n",
              "    </tr>\n",
              "    <tr>\n",
              "      <th>3</th>\n",
              "      <td>1126eDRw2wqSkWosjTCre8cjjQW8sSeWH7</td>\n",
              "      <td>2016</td>\n",
              "      <td>322</td>\n",
              "      <td>72</td>\n",
              "      <td>3.906250e-03</td>\n",
              "      <td>1</td>\n",
              "      <td>0</td>\n",
              "      <td>2</td>\n",
              "      <td>71200000.0</td>\n",
              "      <td>princetonCerber</td>\n",
              "    </tr>\n",
              "    <tr>\n",
              "      <th>4</th>\n",
              "      <td>1129TSjKtx65E35GiUo4AYVeyo48twbrGX</td>\n",
              "      <td>2016</td>\n",
              "      <td>238</td>\n",
              "      <td>144</td>\n",
              "      <td>7.284841e-02</td>\n",
              "      <td>456</td>\n",
              "      <td>0</td>\n",
              "      <td>1</td>\n",
              "      <td>200000000.0</td>\n",
              "      <td>princetonLocky</td>\n",
              "    </tr>\n",
              "    <tr>\n",
              "      <th>5</th>\n",
              "      <td>112AmFATxzhuSpvtz1hfpa3Zrw3BG276pc</td>\n",
              "      <td>2016</td>\n",
              "      <td>96</td>\n",
              "      <td>144</td>\n",
              "      <td>8.461400e-02</td>\n",
              "      <td>2821</td>\n",
              "      <td>0</td>\n",
              "      <td>1</td>\n",
              "      <td>50000000.0</td>\n",
              "      <td>princetonLocky</td>\n",
              "    </tr>\n",
              "    <tr>\n",
              "      <th>6</th>\n",
              "      <td>112E91jxS2qrQY1z78LPWUWrLVFGqbYPQ1</td>\n",
              "      <td>2016</td>\n",
              "      <td>225</td>\n",
              "      <td>142</td>\n",
              "      <td>2.088519e-03</td>\n",
              "      <td>881</td>\n",
              "      <td>0</td>\n",
              "      <td>2</td>\n",
              "      <td>100000000.0</td>\n",
              "      <td>princetonCerber</td>\n",
              "    </tr>\n",
              "    <tr>\n",
              "      <th>7</th>\n",
              "      <td>112eFykaD53KEkKeYW9KW8eWebZYSbt2f5</td>\n",
              "      <td>2016</td>\n",
              "      <td>324</td>\n",
              "      <td>78</td>\n",
              "      <td>3.906250e-03</td>\n",
              "      <td>1</td>\n",
              "      <td>0</td>\n",
              "      <td>2</td>\n",
              "      <td>100990000.0</td>\n",
              "      <td>princetonCerber</td>\n",
              "    </tr>\n",
              "    <tr>\n",
              "      <th>8</th>\n",
              "      <td>112FTiRdJjMrNgEtd4fvdoq3TC33Ah5Dep</td>\n",
              "      <td>2016</td>\n",
              "      <td>298</td>\n",
              "      <td>144</td>\n",
              "      <td>2.302828e+00</td>\n",
              "      <td>4220</td>\n",
              "      <td>0</td>\n",
              "      <td>2</td>\n",
              "      <td>80000000.0</td>\n",
              "      <td>princetonCerber</td>\n",
              "    </tr>\n",
              "    <tr>\n",
              "      <th>9</th>\n",
              "      <td>112GocBgFSnaote6krx828qaockFraD8mp</td>\n",
              "      <td>2016</td>\n",
              "      <td>62</td>\n",
              "      <td>112</td>\n",
              "      <td>3.725290e-09</td>\n",
              "      <td>1</td>\n",
              "      <td>0</td>\n",
              "      <td>1</td>\n",
              "      <td>50000000.0</td>\n",
              "      <td>princetonLocky</td>\n",
              "    </tr>\n",
              "  </tbody>\n",
              "</table>\n",
              "</div>\n",
              "    <div class=\"colab-df-buttons\">\n",
              "\n",
              "  <div class=\"colab-df-container\">\n",
              "    <button class=\"colab-df-convert\" onclick=\"convertToInteractive('df-88c2a7f2-620c-48ce-8ef0-4484cb94be18')\"\n",
              "            title=\"Convert this dataframe to an interactive table.\"\n",
              "            style=\"display:none;\">\n",
              "\n",
              "  <svg xmlns=\"http://www.w3.org/2000/svg\" height=\"24px\" viewBox=\"0 -960 960 960\">\n",
              "    <path d=\"M120-120v-720h720v720H120Zm60-500h600v-160H180v160Zm220 220h160v-160H400v160Zm0 220h160v-160H400v160ZM180-400h160v-160H180v160Zm440 0h160v-160H620v160ZM180-180h160v-160H180v160Zm440 0h160v-160H620v160Z\"/>\n",
              "  </svg>\n",
              "    </button>\n",
              "\n",
              "  <style>\n",
              "    .colab-df-container {\n",
              "      display:flex;\n",
              "      gap: 12px;\n",
              "    }\n",
              "\n",
              "    .colab-df-convert {\n",
              "      background-color: #E8F0FE;\n",
              "      border: none;\n",
              "      border-radius: 50%;\n",
              "      cursor: pointer;\n",
              "      display: none;\n",
              "      fill: #1967D2;\n",
              "      height: 32px;\n",
              "      padding: 0 0 0 0;\n",
              "      width: 32px;\n",
              "    }\n",
              "\n",
              "    .colab-df-convert:hover {\n",
              "      background-color: #E2EBFA;\n",
              "      box-shadow: 0px 1px 2px rgba(60, 64, 67, 0.3), 0px 1px 3px 1px rgba(60, 64, 67, 0.15);\n",
              "      fill: #174EA6;\n",
              "    }\n",
              "\n",
              "    .colab-df-buttons div {\n",
              "      margin-bottom: 4px;\n",
              "    }\n",
              "\n",
              "    [theme=dark] .colab-df-convert {\n",
              "      background-color: #3B4455;\n",
              "      fill: #D2E3FC;\n",
              "    }\n",
              "\n",
              "    [theme=dark] .colab-df-convert:hover {\n",
              "      background-color: #434B5C;\n",
              "      box-shadow: 0px 1px 3px 1px rgba(0, 0, 0, 0.15);\n",
              "      filter: drop-shadow(0px 1px 2px rgba(0, 0, 0, 0.3));\n",
              "      fill: #FFFFFF;\n",
              "    }\n",
              "  </style>\n",
              "\n",
              "    <script>\n",
              "      const buttonEl =\n",
              "        document.querySelector('#df-88c2a7f2-620c-48ce-8ef0-4484cb94be18 button.colab-df-convert');\n",
              "      buttonEl.style.display =\n",
              "        google.colab.kernel.accessAllowed ? 'block' : 'none';\n",
              "\n",
              "      async function convertToInteractive(key) {\n",
              "        const element = document.querySelector('#df-88c2a7f2-620c-48ce-8ef0-4484cb94be18');\n",
              "        const dataTable =\n",
              "          await google.colab.kernel.invokeFunction('convertToInteractive',\n",
              "                                                    [key], {});\n",
              "        if (!dataTable) return;\n",
              "\n",
              "        const docLinkHtml = 'Like what you see? Visit the ' +\n",
              "          '<a target=\"_blank\" href=https://colab.research.google.com/notebooks/data_table.ipynb>data table notebook</a>'\n",
              "          + ' to learn more about interactive tables.';\n",
              "        element.innerHTML = '';\n",
              "        dataTable['output_type'] = 'display_data';\n",
              "        await google.colab.output.renderOutput(dataTable, element);\n",
              "        const docLink = document.createElement('div');\n",
              "        docLink.innerHTML = docLinkHtml;\n",
              "        element.appendChild(docLink);\n",
              "      }\n",
              "    </script>\n",
              "  </div>\n",
              "\n",
              "\n",
              "<div id=\"df-c53a724b-48db-4a6d-853a-dd5c07d8e979\">\n",
              "  <button class=\"colab-df-quickchart\" onclick=\"quickchart('df-c53a724b-48db-4a6d-853a-dd5c07d8e979')\"\n",
              "            title=\"Suggest charts\"\n",
              "            style=\"display:none;\">\n",
              "\n",
              "<svg xmlns=\"http://www.w3.org/2000/svg\" height=\"24px\"viewBox=\"0 0 24 24\"\n",
              "     width=\"24px\">\n",
              "    <g>\n",
              "        <path d=\"M19 3H5c-1.1 0-2 .9-2 2v14c0 1.1.9 2 2 2h14c1.1 0 2-.9 2-2V5c0-1.1-.9-2-2-2zM9 17H7v-7h2v7zm4 0h-2V7h2v10zm4 0h-2v-4h2v4z\"/>\n",
              "    </g>\n",
              "</svg>\n",
              "  </button>\n",
              "\n",
              "<style>\n",
              "  .colab-df-quickchart {\n",
              "      --bg-color: #E8F0FE;\n",
              "      --fill-color: #1967D2;\n",
              "      --hover-bg-color: #E2EBFA;\n",
              "      --hover-fill-color: #174EA6;\n",
              "      --disabled-fill-color: #AAA;\n",
              "      --disabled-bg-color: #DDD;\n",
              "  }\n",
              "\n",
              "  [theme=dark] .colab-df-quickchart {\n",
              "      --bg-color: #3B4455;\n",
              "      --fill-color: #D2E3FC;\n",
              "      --hover-bg-color: #434B5C;\n",
              "      --hover-fill-color: #FFFFFF;\n",
              "      --disabled-bg-color: #3B4455;\n",
              "      --disabled-fill-color: #666;\n",
              "  }\n",
              "\n",
              "  .colab-df-quickchart {\n",
              "    background-color: var(--bg-color);\n",
              "    border: none;\n",
              "    border-radius: 50%;\n",
              "    cursor: pointer;\n",
              "    display: none;\n",
              "    fill: var(--fill-color);\n",
              "    height: 32px;\n",
              "    padding: 0;\n",
              "    width: 32px;\n",
              "  }\n",
              "\n",
              "  .colab-df-quickchart:hover {\n",
              "    background-color: var(--hover-bg-color);\n",
              "    box-shadow: 0 1px 2px rgba(60, 64, 67, 0.3), 0 1px 3px 1px rgba(60, 64, 67, 0.15);\n",
              "    fill: var(--button-hover-fill-color);\n",
              "  }\n",
              "\n",
              "  .colab-df-quickchart-complete:disabled,\n",
              "  .colab-df-quickchart-complete:disabled:hover {\n",
              "    background-color: var(--disabled-bg-color);\n",
              "    fill: var(--disabled-fill-color);\n",
              "    box-shadow: none;\n",
              "  }\n",
              "\n",
              "  .colab-df-spinner {\n",
              "    border: 2px solid var(--fill-color);\n",
              "    border-color: transparent;\n",
              "    border-bottom-color: var(--fill-color);\n",
              "    animation:\n",
              "      spin 1s steps(1) infinite;\n",
              "  }\n",
              "\n",
              "  @keyframes spin {\n",
              "    0% {\n",
              "      border-color: transparent;\n",
              "      border-bottom-color: var(--fill-color);\n",
              "      border-left-color: var(--fill-color);\n",
              "    }\n",
              "    20% {\n",
              "      border-color: transparent;\n",
              "      border-left-color: var(--fill-color);\n",
              "      border-top-color: var(--fill-color);\n",
              "    }\n",
              "    30% {\n",
              "      border-color: transparent;\n",
              "      border-left-color: var(--fill-color);\n",
              "      border-top-color: var(--fill-color);\n",
              "      border-right-color: var(--fill-color);\n",
              "    }\n",
              "    40% {\n",
              "      border-color: transparent;\n",
              "      border-right-color: var(--fill-color);\n",
              "      border-top-color: var(--fill-color);\n",
              "    }\n",
              "    60% {\n",
              "      border-color: transparent;\n",
              "      border-right-color: var(--fill-color);\n",
              "    }\n",
              "    80% {\n",
              "      border-color: transparent;\n",
              "      border-right-color: var(--fill-color);\n",
              "      border-bottom-color: var(--fill-color);\n",
              "    }\n",
              "    90% {\n",
              "      border-color: transparent;\n",
              "      border-bottom-color: var(--fill-color);\n",
              "    }\n",
              "  }\n",
              "</style>\n",
              "\n",
              "  <script>\n",
              "    async function quickchart(key) {\n",
              "      const quickchartButtonEl =\n",
              "        document.querySelector('#' + key + ' button');\n",
              "      quickchartButtonEl.disabled = true;  // To prevent multiple clicks.\n",
              "      quickchartButtonEl.classList.add('colab-df-spinner');\n",
              "      try {\n",
              "        const charts = await google.colab.kernel.invokeFunction(\n",
              "            'suggestCharts', [key], {});\n",
              "      } catch (error) {\n",
              "        console.error('Error during call to suggestCharts:', error);\n",
              "      }\n",
              "      quickchartButtonEl.classList.remove('colab-df-spinner');\n",
              "      quickchartButtonEl.classList.add('colab-df-quickchart-complete');\n",
              "    }\n",
              "    (() => {\n",
              "      let quickchartButtonEl =\n",
              "        document.querySelector('#df-c53a724b-48db-4a6d-853a-dd5c07d8e979 button');\n",
              "      quickchartButtonEl.style.display =\n",
              "        google.colab.kernel.accessAllowed ? 'block' : 'none';\n",
              "    })();\n",
              "  </script>\n",
              "</div>\n",
              "\n",
              "    </div>\n",
              "  </div>\n"
            ],
            "text/plain": [
              "                              address  year  day  length        weight  count  \\\n",
              "0   111K8kZAEnJg245r2cM6y9zgJGHZtJPy6  2017   11      18  8.333333e-03      1   \n",
              "1  1123pJv8jzeFQaCV4w644pzQJzVWay2zcA  2016  132      44  2.441406e-04      1   \n",
              "2  112536im7hy6wtKbpH1qYDWtTyMRAcA2p7  2016  246       0  1.000000e+00      1   \n",
              "3  1126eDRw2wqSkWosjTCre8cjjQW8sSeWH7  2016  322      72  3.906250e-03      1   \n",
              "4  1129TSjKtx65E35GiUo4AYVeyo48twbrGX  2016  238     144  7.284841e-02    456   \n",
              "5  112AmFATxzhuSpvtz1hfpa3Zrw3BG276pc  2016   96     144  8.461400e-02   2821   \n",
              "6  112E91jxS2qrQY1z78LPWUWrLVFGqbYPQ1  2016  225     142  2.088519e-03    881   \n",
              "7  112eFykaD53KEkKeYW9KW8eWebZYSbt2f5  2016  324      78  3.906250e-03      1   \n",
              "8  112FTiRdJjMrNgEtd4fvdoq3TC33Ah5Dep  2016  298     144  2.302828e+00   4220   \n",
              "9  112GocBgFSnaote6krx828qaockFraD8mp  2016   62     112  3.725290e-09      1   \n",
              "\n",
              "   looped  neighbors       income            label  \n",
              "0       0          2  100050000.0  princetonCerber  \n",
              "1       0          1  100000000.0   princetonLocky  \n",
              "2       0          2  200000000.0  princetonCerber  \n",
              "3       0          2   71200000.0  princetonCerber  \n",
              "4       0          1  200000000.0   princetonLocky  \n",
              "5       0          1   50000000.0   princetonLocky  \n",
              "6       0          2  100000000.0  princetonCerber  \n",
              "7       0          2  100990000.0  princetonCerber  \n",
              "8       0          2   80000000.0  princetonCerber  \n",
              "9       0          1   50000000.0   princetonLocky  "
            ]
          },
          "execution_count": 184,
          "metadata": {},
          "output_type": "execute_result"
        }
      ],
      "source": [
        "df.head(10)"
      ]
    },
    {
      "cell_type": "code",
      "execution_count": 185,
      "id": "7447f5cc7d7b1a9e",
      "metadata": {
        "ExecuteTime": {
          "end_time": "2024-12-17T16:19:44.090448Z",
          "start_time": "2024-12-17T16:19:44.018529Z"
        },
        "colab": {
          "base_uri": "https://localhost:8080/"
        },
        "id": "7447f5cc7d7b1a9e",
        "outputId": "fb055296-2b61-4386-93ea-aedd51a491a9"
      },
      "outputs": [
        {
          "data": {
            "text/plain": [
              "array(['princetonCerber', 'princetonLocky', 'montrealCryptoLocker',\n",
              "       'montrealCryptXXX', 'paduaCryptoWall', 'montrealWannaCry',\n",
              "       'montrealDMALockerv3', 'montrealCryptoTorLocker2015',\n",
              "       'montrealSamSam', 'montrealFlyper', 'montrealNoobCrypt',\n",
              "       'montrealDMALocker', 'montrealGlobe', 'montrealEDA2',\n",
              "       'paduaKeRanger', 'montrealVenusLocker', 'montrealXTPLocker',\n",
              "       'paduaJigsaw', 'montrealGlobev3', 'montrealJigSaw',\n",
              "       'montrealXLockerv5.0', 'montrealXLocker', 'montrealRazy',\n",
              "       'montrealCryptConsole', 'montrealGlobeImposter', 'montrealSam',\n",
              "       'montrealComradeCircle', 'montrealAPT', 'white'], dtype=object)"
            ]
          },
          "execution_count": 185,
          "metadata": {},
          "output_type": "execute_result"
        }
      ],
      "source": [
        "df['label'].unique()"
      ]
    },
    {
      "cell_type": "code",
      "execution_count": 186,
      "id": "807699bb16427d9c",
      "metadata": {
        "ExecuteTime": {
          "end_time": "2024-12-17T16:19:44.210314Z",
          "start_time": "2024-12-17T16:19:44.128751Z"
        },
        "colab": {
          "base_uri": "https://localhost:8080/",
          "height": 1000
        },
        "id": "807699bb16427d9c",
        "outputId": "025745bc-e4b4-4a36-fe51-c07f918b8842"
      },
      "outputs": [
        {
          "data": {
            "text/html": [
              "<div>\n",
              "<style scoped>\n",
              "    .dataframe tbody tr th:only-of-type {\n",
              "        vertical-align: middle;\n",
              "    }\n",
              "\n",
              "    .dataframe tbody tr th {\n",
              "        vertical-align: top;\n",
              "    }\n",
              "\n",
              "    .dataframe thead th {\n",
              "        text-align: right;\n",
              "    }\n",
              "</style>\n",
              "<table border=\"1\" class=\"dataframe\">\n",
              "  <thead>\n",
              "    <tr style=\"text-align: right;\">\n",
              "      <th></th>\n",
              "      <th>count</th>\n",
              "    </tr>\n",
              "    <tr>\n",
              "      <th>label</th>\n",
              "      <th></th>\n",
              "    </tr>\n",
              "  </thead>\n",
              "  <tbody>\n",
              "    <tr>\n",
              "      <th>white</th>\n",
              "      <td>2875284</td>\n",
              "    </tr>\n",
              "    <tr>\n",
              "      <th>paduaCryptoWall</th>\n",
              "      <td>12390</td>\n",
              "    </tr>\n",
              "    <tr>\n",
              "      <th>montrealCryptoLocker</th>\n",
              "      <td>9315</td>\n",
              "    </tr>\n",
              "    <tr>\n",
              "      <th>princetonCerber</th>\n",
              "      <td>9223</td>\n",
              "    </tr>\n",
              "    <tr>\n",
              "      <th>princetonLocky</th>\n",
              "      <td>6625</td>\n",
              "    </tr>\n",
              "    <tr>\n",
              "      <th>montrealCryptXXX</th>\n",
              "      <td>2419</td>\n",
              "    </tr>\n",
              "    <tr>\n",
              "      <th>montrealNoobCrypt</th>\n",
              "      <td>483</td>\n",
              "    </tr>\n",
              "    <tr>\n",
              "      <th>montrealDMALockerv3</th>\n",
              "      <td>354</td>\n",
              "    </tr>\n",
              "    <tr>\n",
              "      <th>montrealDMALocker</th>\n",
              "      <td>251</td>\n",
              "    </tr>\n",
              "    <tr>\n",
              "      <th>montrealSamSam</th>\n",
              "      <td>62</td>\n",
              "    </tr>\n",
              "    <tr>\n",
              "      <th>montrealCryptoTorLocker2015</th>\n",
              "      <td>55</td>\n",
              "    </tr>\n",
              "    <tr>\n",
              "      <th>montrealGlobeImposter</th>\n",
              "      <td>55</td>\n",
              "    </tr>\n",
              "    <tr>\n",
              "      <th>montrealGlobev3</th>\n",
              "      <td>34</td>\n",
              "    </tr>\n",
              "    <tr>\n",
              "      <th>montrealGlobe</th>\n",
              "      <td>32</td>\n",
              "    </tr>\n",
              "    <tr>\n",
              "      <th>montrealWannaCry</th>\n",
              "      <td>28</td>\n",
              "    </tr>\n",
              "    <tr>\n",
              "      <th>montrealRazy</th>\n",
              "      <td>13</td>\n",
              "    </tr>\n",
              "    <tr>\n",
              "      <th>montrealAPT</th>\n",
              "      <td>11</td>\n",
              "    </tr>\n",
              "    <tr>\n",
              "      <th>paduaKeRanger</th>\n",
              "      <td>10</td>\n",
              "    </tr>\n",
              "    <tr>\n",
              "      <th>montrealFlyper</th>\n",
              "      <td>9</td>\n",
              "    </tr>\n",
              "    <tr>\n",
              "      <th>montrealXTPLocker</th>\n",
              "      <td>8</td>\n",
              "    </tr>\n",
              "    <tr>\n",
              "      <th>montrealXLockerv5.0</th>\n",
              "      <td>7</td>\n",
              "    </tr>\n",
              "    <tr>\n",
              "      <th>montrealVenusLocker</th>\n",
              "      <td>7</td>\n",
              "    </tr>\n",
              "    <tr>\n",
              "      <th>montrealCryptConsole</th>\n",
              "      <td>7</td>\n",
              "    </tr>\n",
              "    <tr>\n",
              "      <th>montrealEDA2</th>\n",
              "      <td>6</td>\n",
              "    </tr>\n",
              "    <tr>\n",
              "      <th>montrealJigSaw</th>\n",
              "      <td>4</td>\n",
              "    </tr>\n",
              "    <tr>\n",
              "      <th>paduaJigsaw</th>\n",
              "      <td>2</td>\n",
              "    </tr>\n",
              "    <tr>\n",
              "      <th>montrealXLocker</th>\n",
              "      <td>1</td>\n",
              "    </tr>\n",
              "    <tr>\n",
              "      <th>montrealSam</th>\n",
              "      <td>1</td>\n",
              "    </tr>\n",
              "    <tr>\n",
              "      <th>montrealComradeCircle</th>\n",
              "      <td>1</td>\n",
              "    </tr>\n",
              "  </tbody>\n",
              "</table>\n",
              "</div><br><label><b>dtype:</b> int64</label>"
            ],
            "text/plain": [
              "label\n",
              "white                          2875284\n",
              "paduaCryptoWall                  12390\n",
              "montrealCryptoLocker              9315\n",
              "princetonCerber                   9223\n",
              "princetonLocky                    6625\n",
              "montrealCryptXXX                  2419\n",
              "montrealNoobCrypt                  483\n",
              "montrealDMALockerv3                354\n",
              "montrealDMALocker                  251\n",
              "montrealSamSam                      62\n",
              "montrealCryptoTorLocker2015         55\n",
              "montrealGlobeImposter               55\n",
              "montrealGlobev3                     34\n",
              "montrealGlobe                       32\n",
              "montrealWannaCry                    28\n",
              "montrealRazy                        13\n",
              "montrealAPT                         11\n",
              "paduaKeRanger                       10\n",
              "montrealFlyper                       9\n",
              "montrealXTPLocker                    8\n",
              "montrealXLockerv5.0                  7\n",
              "montrealVenusLocker                  7\n",
              "montrealCryptConsole                 7\n",
              "montrealEDA2                         6\n",
              "montrealJigSaw                       4\n",
              "paduaJigsaw                          2\n",
              "montrealXLocker                      1\n",
              "montrealSam                          1\n",
              "montrealComradeCircle                1\n",
              "Name: count, dtype: int64"
            ]
          },
          "execution_count": 186,
          "metadata": {},
          "output_type": "execute_result"
        }
      ],
      "source": [
        "df['label'].value_counts()"
      ]
    },
    {
      "cell_type": "code",
      "execution_count": 187,
      "id": "4KYa7gRa0ysd",
      "metadata": {
        "colab": {
          "base_uri": "https://localhost:8080/"
        },
        "id": "4KYa7gRa0ysd",
        "outputId": "4421190e-d10b-4d91-a67f-c3cd87a5276f"
      },
      "outputs": [
        {
          "name": "stdout",
          "output_type": "stream",
          "text": [
            "label\n",
            "white                          2875284\n",
            "paduaCryptoWall                  12390\n",
            "montrealCryptoLocker              9315\n",
            "princetonCerber                   9223\n",
            "princetonLocky                    6625\n",
            "montrealCryptXXX                  2419\n",
            "montrealNoobCrypt                  483\n",
            "montrealDMALockerv3                354\n",
            "montrealDMALocker                  251\n",
            "montrealSamSam                      62\n",
            "montrealCryptoTorLocker2015         55\n",
            "montrealGlobeImposter               55\n",
            "montrealGlobev3                     34\n",
            "montrealGlobe                       32\n",
            "montrealWannaCry                    28\n",
            "montrealRazy                        13\n",
            "montrealAPT                         11\n",
            "paduaKeRanger                       10\n",
            "montrealFlyper                       9\n",
            "montrealXTPLocker                    8\n",
            "montrealXLockerv5.0                  7\n",
            "montrealVenusLocker                  7\n",
            "montrealCryptConsole                 7\n",
            "montrealEDA2                         6\n",
            "montrealJigSaw                       4\n",
            "paduaJigsaw                          2\n",
            "montrealXLocker                      1\n",
            "montrealSam                          1\n",
            "montrealComradeCircle                1\n",
            "Name: count, dtype: int64\n"
          ]
        }
      ],
      "source": [
        "ransomware_counts = df['label'].value_counts()\n",
        "print(ransomware_counts)"
      ]
    },
    {
      "cell_type": "code",
      "execution_count": 188,
      "id": "N_vuXjk2pDId",
      "metadata": {
        "colab": {
          "base_uri": "https://localhost:8080/",
          "height": 703
        },
        "id": "N_vuXjk2pDId",
        "outputId": "4944ce0a-849a-4ec9-f115-6532c2488dc2"
      },
      "outputs": [
        {
          "name": "stderr",
          "output_type": "stream",
          "text": [
            "<ipython-input-188-845d5a72ce33>:9: FutureWarning: \n",
            "\n",
            "Passing `palette` without assigning `hue` is deprecated and will be removed in v0.14.0. Assign the `x` variable to `hue` and set `legend=False` for the same effect.\n",
            "\n",
            "  sns.barplot(x=ransomware_counts.index, y=ransomware_counts.values, palette='viridis')\n"
          ]
        },
        {
          "data": {
            "image/png": "[encoded data removed]",
            "text/plain": [
              "<Figure size 1500x800 with 1 Axes>"
            ]
          },
          "metadata": {},
          "output_type": "display_data"
        }
      ],
      "source": [
        "ransomware_counts = df['label'].value_counts()\n",
        "\n",
        "other_count = ransomware_counts[ransomware_counts < 6625].sum()\n",
        "\n",
        "ransomware_counts = ransomware_counts[ransomware_counts >= 6625]\n",
        "ransomware_counts['Other'] = other_count\n",
        "\n",
        "plt.figure(figsize=(15, 8))\n",
        "sns.barplot(x=ransomware_counts.index, y=ransomware_counts.values, palette='viridis')\n",
        "\n",
        "plt.xticks(rotation=45, fontsize=12)\n",
        "plt.title('Distribution of Ransomware Families', fontsize=16)\n",
        "plt.xlabel('Ransomware Family', fontsize=14)\n",
        "plt.ylabel('Count', fontsize=14)\n",
        "\n",
        "plt.yscale('log')\n",
        "\n",
        "plt.tight_layout()\n",
        "plt.show()"
      ]
    },
    {
      "cell_type": "code",
      "execution_count": 189,
      "id": "7a4e7badbab02dfd",
      "metadata": {
        "ExecuteTime": {
          "end_time": "2024-12-17T16:19:44.721913Z",
          "start_time": "2024-12-17T16:19:44.272127Z"
        },
        "colab": {
          "base_uri": "https://localhost:8080/",
          "height": 206
        },
        "id": "7a4e7badbab02dfd",
        "outputId": "c918c41d-4b26-4036-f0af-c637a6814a19"
      },
      "outputs": [
        {
          "data": {
            "application/vnd.google.colaboratory.intrinsic+json": {
              "type": "dataframe",
              "variable_name": "df"
            },
            "text/html": [
              "\n",
              "  <div id=\"df-b0f64a8c-6d64-42bc-aa49-63b56f41ea05\" class=\"colab-df-container\">\n",
              "    <div>\n",
              "<style scoped>\n",
              "    .dataframe tbody tr th:only-of-type {\n",
              "        vertical-align: middle;\n",
              "    }\n",
              "\n",
              "    .dataframe tbody tr th {\n",
              "        vertical-align: top;\n",
              "    }\n",
              "\n",
              "    .dataframe thead th {\n",
              "        text-align: right;\n",
              "    }\n",
              "</style>\n",
              "<table border=\"1\" class=\"dataframe\">\n",
              "  <thead>\n",
              "    <tr style=\"text-align: right;\">\n",
              "      <th></th>\n",
              "      <th>address</th>\n",
              "      <th>year</th>\n",
              "      <th>day</th>\n",
              "      <th>length</th>\n",
              "      <th>weight</th>\n",
              "      <th>count</th>\n",
              "      <th>looped</th>\n",
              "      <th>neighbors</th>\n",
              "      <th>income</th>\n",
              "      <th>label</th>\n",
              "    </tr>\n",
              "  </thead>\n",
              "  <tbody>\n",
              "    <tr>\n",
              "      <th>0</th>\n",
              "      <td>111K8kZAEnJg245r2cM6y9zgJGHZtJPy6</td>\n",
              "      <td>2017</td>\n",
              "      <td>11</td>\n",
              "      <td>18</td>\n",
              "      <td>0.008333</td>\n",
              "      <td>1</td>\n",
              "      <td>0</td>\n",
              "      <td>2</td>\n",
              "      <td>100050000.0</td>\n",
              "      <td>1</td>\n",
              "    </tr>\n",
              "    <tr>\n",
              "      <th>1</th>\n",
              "      <td>1123pJv8jzeFQaCV4w644pzQJzVWay2zcA</td>\n",
              "      <td>2016</td>\n",
              "      <td>132</td>\n",
              "      <td>44</td>\n",
              "      <td>0.000244</td>\n",
              "      <td>1</td>\n",
              "      <td>0</td>\n",
              "      <td>1</td>\n",
              "      <td>100000000.0</td>\n",
              "      <td>1</td>\n",
              "    </tr>\n",
              "    <tr>\n",
              "      <th>2</th>\n",
              "      <td>112536im7hy6wtKbpH1qYDWtTyMRAcA2p7</td>\n",
              "      <td>2016</td>\n",
              "      <td>246</td>\n",
              "      <td>0</td>\n",
              "      <td>1.000000</td>\n",
              "      <td>1</td>\n",
              "      <td>0</td>\n",
              "      <td>2</td>\n",
              "      <td>200000000.0</td>\n",
              "      <td>1</td>\n",
              "    </tr>\n",
              "    <tr>\n",
              "      <th>3</th>\n",
              "      <td>1126eDRw2wqSkWosjTCre8cjjQW8sSeWH7</td>\n",
              "      <td>2016</td>\n",
              "      <td>322</td>\n",
              "      <td>72</td>\n",
              "      <td>0.003906</td>\n",
              "      <td>1</td>\n",
              "      <td>0</td>\n",
              "      <td>2</td>\n",
              "      <td>71200000.0</td>\n",
              "      <td>1</td>\n",
              "    </tr>\n",
              "    <tr>\n",
              "      <th>4</th>\n",
              "      <td>1129TSjKtx65E35GiUo4AYVeyo48twbrGX</td>\n",
              "      <td>2016</td>\n",
              "      <td>238</td>\n",
              "      <td>144</td>\n",
              "      <td>0.072848</td>\n",
              "      <td>456</td>\n",
              "      <td>0</td>\n",
              "      <td>1</td>\n",
              "      <td>200000000.0</td>\n",
              "      <td>1</td>\n",
              "    </tr>\n",
              "  </tbody>\n",
              "</table>\n",
              "</div>\n",
              "    <div class=\"colab-df-buttons\">\n",
              "\n",
              "  <div class=\"colab-df-container\">\n",
              "    <button class=\"colab-df-convert\" onclick=\"convertToInteractive('df-b0f64a8c-6d64-42bc-aa49-63b56f41ea05')\"\n",
              "            title=\"Convert this dataframe to an interactive table.\"\n",
              "            style=\"display:none;\">\n",
              "\n",
              "  <svg xmlns=\"http://www.w3.org/2000/svg\" height=\"24px\" viewBox=\"0 -960 960 960\">\n",
              "    <path d=\"M120-120v-720h720v720H120Zm60-500h600v-160H180v160Zm220 220h160v-160H400v160Zm0 220h160v-160H400v160ZM180-400h160v-160H180v160Zm440 0h160v-160H620v160ZM180-180h160v-160H180v160Zm440 0h160v-160H620v160Z\"/>\n",
              "  </svg>\n",
              "    </button>\n",
              "\n",
              "  <style>\n",
              "    .colab-df-container {\n",
              "      display:flex;\n",
              "      gap: 12px;\n",
              "    }\n",
              "\n",
              "    .colab-df-convert {\n",
              "      background-color: #E8F0FE;\n",
              "      border: none;\n",
              "      border-radius: 50%;\n",
              "      cursor: pointer;\n",
              "      display: none;\n",
              "      fill: #1967D2;\n",
              "      height: 32px;\n",
              "      padding: 0 0 0 0;\n",
              "      width: 32px;\n",
              "    }\n",
              "\n",
              "    .colab-df-convert:hover {\n",
              "      background-color: #E2EBFA;\n",
              "      box-shadow: 0px 1px 2px rgba(60, 64, 67, 0.3), 0px 1px 3px 1px rgba(60, 64, 67, 0.15);\n",
              "      fill: #174EA6;\n",
              "    }\n",
              "\n",
              "    .colab-df-buttons div {\n",
              "      margin-bottom: 4px;\n",
              "    }\n",
              "\n",
              "    [theme=dark] .colab-df-convert {\n",
              "      background-color: #3B4455;\n",
              "      fill: #D2E3FC;\n",
              "    }\n",
              "\n",
              "    [theme=dark] .colab-df-convert:hover {\n",
              "      background-color: #434B5C;\n",
              "      box-shadow: 0px 1px 3px 1px rgba(0, 0, 0, 0.15);\n",
              "      filter: drop-shadow(0px 1px 2px rgba(0, 0, 0, 0.3));\n",
              "      fill: #FFFFFF;\n",
              "    }\n",
              "  </style>\n",
              "\n",
              "    <script>\n",
              "      const buttonEl =\n",
              "        document.querySelector('#df-b0f64a8c-6d64-42bc-aa49-63b56f41ea05 button.colab-df-convert');\n",
              "      buttonEl.style.display =\n",
              "        google.colab.kernel.accessAllowed ? 'block' : 'none';\n",
              "\n",
              "      async function convertToInteractive(key) {\n",
              "        const element = document.querySelector('#df-b0f64a8c-6d64-42bc-aa49-63b56f41ea05');\n",
              "        const dataTable =\n",
              "          await google.colab.kernel.invokeFunction('convertToInteractive',\n",
              "                                                    [key], {});\n",
              "        if (!dataTable) return;\n",
              "\n",
              "        const docLinkHtml = 'Like what you see? Visit the ' +\n",
              "          '<a target=\"_blank\" href=https://colab.research.google.com/notebooks/data_table.ipynb>data table notebook</a>'\n",
              "          + ' to learn more about interactive tables.';\n",
              "        element.innerHTML = '';\n",
              "        dataTable['output_type'] = 'display_data';\n",
              "        await google.colab.output.renderOutput(dataTable, element);\n",
              "        const docLink = document.createElement('div');\n",
              "        docLink.innerHTML = docLinkHtml;\n",
              "        element.appendChild(docLink);\n",
              "      }\n",
              "    </script>\n",
              "  </div>\n",
              "\n",
              "\n",
              "<div id=\"df-94ecbf11-eab9-4e42-b7e6-0006f1bef18b\">\n",
              "  <button class=\"colab-df-quickchart\" onclick=\"quickchart('df-94ecbf11-eab9-4e42-b7e6-0006f1bef18b')\"\n",
              "            title=\"Suggest charts\"\n",
              "            style=\"display:none;\">\n",
              "\n",
              "<svg xmlns=\"http://www.w3.org/2000/svg\" height=\"24px\"viewBox=\"0 0 24 24\"\n",
              "     width=\"24px\">\n",
              "    <g>\n",
              "        <path d=\"M19 3H5c-1.1 0-2 .9-2 2v14c0 1.1.9 2 2 2h14c1.1 0 2-.9 2-2V5c0-1.1-.9-2-2-2zM9 17H7v-7h2v7zm4 0h-2V7h2v10zm4 0h-2v-4h2v4z\"/>\n",
              "    </g>\n",
              "</svg>\n",
              "  </button>\n",
              "\n",
              "<style>\n",
              "  .colab-df-quickchart {\n",
              "      --bg-color: #E8F0FE;\n",
              "      --fill-color: #1967D2;\n",
              "      --hover-bg-color: #E2EBFA;\n",
              "      --hover-fill-color: #174EA6;\n",
              "      --disabled-fill-color: #AAA;\n",
              "      --disabled-bg-color: #DDD;\n",
              "  }\n",
              "\n",
              "  [theme=dark] .colab-df-quickchart {\n",
              "      --bg-color: #3B4455;\n",
              "      --fill-color: #D2E3FC;\n",
              "      --hover-bg-color: #434B5C;\n",
              "      --hover-fill-color: #FFFFFF;\n",
              "      --disabled-bg-color: #3B4455;\n",
              "      --disabled-fill-color: #666;\n",
              "  }\n",
              "\n",
              "  .colab-df-quickchart {\n",
              "    background-color: var(--bg-color);\n",
              "    border: none;\n",
              "    border-radius: 50%;\n",
              "    cursor: pointer;\n",
              "    display: none;\n",
              "    fill: var(--fill-color);\n",
              "    height: 32px;\n",
              "    padding: 0;\n",
              "    width: 32px;\n",
              "  }\n",
              "\n",
              "  .colab-df-quickchart:hover {\n",
              "    background-color: var(--hover-bg-color);\n",
              "    box-shadow: 0 1px 2px rgba(60, 64, 67, 0.3), 0 1px 3px 1px rgba(60, 64, 67, 0.15);\n",
              "    fill: var(--button-hover-fill-color);\n",
              "  }\n",
              "\n",
              "  .colab-df-quickchart-complete:disabled,\n",
              "  .colab-df-quickchart-complete:disabled:hover {\n",
              "    background-color: var(--disabled-bg-color);\n",
              "    fill: var(--disabled-fill-color);\n",
              "    box-shadow: none;\n",
              "  }\n",
              "\n",
              "  .colab-df-spinner {\n",
              "    border: 2px solid var(--fill-color);\n",
              "    border-color: transparent;\n",
              "    border-bottom-color: var(--fill-color);\n",
              "    animation:\n",
              "      spin 1s steps(1) infinite;\n",
              "  }\n",
              "\n",
              "  @keyframes spin {\n",
              "    0% {\n",
              "      border-color: transparent;\n",
              "      border-bottom-color: var(--fill-color);\n",
              "      border-left-color: var(--fill-color);\n",
              "    }\n",
              "    20% {\n",
              "      border-color: transparent;\n",
              "      border-left-color: var(--fill-color);\n",
              "      border-top-color: var(--fill-color);\n",
              "    }\n",
              "    30% {\n",
              "      border-color: transparent;\n",
              "      border-left-color: var(--fill-color);\n",
              "      border-top-color: var(--fill-color);\n",
              "      border-right-color: var(--fill-color);\n",
              "    }\n",
              "    40% {\n",
              "      border-color: transparent;\n",
              "      border-right-color: var(--fill-color);\n",
              "      border-top-color: var(--fill-color);\n",
              "    }\n",
              "    60% {\n",
              "      border-color: transparent;\n",
              "      border-right-color: var(--fill-color);\n",
              "    }\n",
              "    80% {\n",
              "      border-color: transparent;\n",
              "      border-right-color: var(--fill-color);\n",
              "      border-bottom-color: var(--fill-color);\n",
              "    }\n",
              "    90% {\n",
              "      border-color: transparent;\n",
              "      border-bottom-color: var(--fill-color);\n",
              "    }\n",
              "  }\n",
              "</style>\n",
              "\n",
              "  <script>\n",
              "    async function quickchart(key) {\n",
              "      const quickchartButtonEl =\n",
              "        document.querySelector('#' + key + ' button');\n",
              "      quickchartButtonEl.disabled = true;  // To prevent multiple clicks.\n",
              "      quickchartButtonEl.classList.add('colab-df-spinner');\n",
              "      try {\n",
              "        const charts = await google.colab.kernel.invokeFunction(\n",
              "            'suggestCharts', [key], {});\n",
              "      } catch (error) {\n",
              "        console.error('Error during call to suggestCharts:', error);\n",
              "      }\n",
              "      quickchartButtonEl.classList.remove('colab-df-spinner');\n",
              "      quickchartButtonEl.classList.add('colab-df-quickchart-complete');\n",
              "    }\n",
              "    (() => {\n",
              "      let quickchartButtonEl =\n",
              "        document.querySelector('#df-94ecbf11-eab9-4e42-b7e6-0006f1bef18b button');\n",
              "      quickchartButtonEl.style.display =\n",
              "        google.colab.kernel.accessAllowed ? 'block' : 'none';\n",
              "    })();\n",
              "  </script>\n",
              "</div>\n",
              "\n",
              "    </div>\n",
              "  </div>\n"
            ],
            "text/plain": [
              "                              address  year  day  length    weight  count  \\\n",
              "0   111K8kZAEnJg245r2cM6y9zgJGHZtJPy6  2017   11      18  0.008333      1   \n",
              "1  1123pJv8jzeFQaCV4w644pzQJzVWay2zcA  2016  132      44  0.000244      1   \n",
              "2  112536im7hy6wtKbpH1qYDWtTyMRAcA2p7  2016  246       0  1.000000      1   \n",
              "3  1126eDRw2wqSkWosjTCre8cjjQW8sSeWH7  2016  322      72  0.003906      1   \n",
              "4  1129TSjKtx65E35GiUo4AYVeyo48twbrGX  2016  238     144  0.072848    456   \n",
              "\n",
              "   looped  neighbors       income  label  \n",
              "0       0          2  100050000.0      1  \n",
              "1       0          1  100000000.0      1  \n",
              "2       0          2  200000000.0      1  \n",
              "3       0          2   71200000.0      1  \n",
              "4       0          1  200000000.0      1  "
            ]
          },
          "execution_count": 189,
          "metadata": {},
          "output_type": "execute_result"
        }
      ],
      "source": [
        "\n",
        "df['label'] = df['label'].apply(lambda x: 0 if x == 'white' else 1)\n",
        "\n",
        "df.head()\n"
      ]
    },
    {
      "cell_type": "code",
      "execution_count": 190,
      "id": "51fb26353f8aef64",
      "metadata": {
        "ExecuteTime": {
          "end_time": "2024-12-17T16:19:44.895622Z",
          "start_time": "2024-12-17T16:19:44.775463Z"
        },
        "colab": {
          "base_uri": "https://localhost:8080/"
        },
        "id": "51fb26353f8aef64",
        "outputId": "5c81a1c7-e8af-4877-8ca5-03fef546aff8"
      },
      "outputs": [
        {
          "data": {
            "text/plain": [
              "41413"
            ]
          },
          "execution_count": 190,
          "metadata": {},
          "output_type": "execute_result"
        }
      ],
      "source": [
        "len(df[df['label']==1])"
      ]
    },
    {
      "cell_type": "code",
      "execution_count": 191,
      "id": "f1fab35680294aca",
      "metadata": {
        "ExecuteTime": {
          "end_time": "2024-12-17T16:19:45.092325Z",
          "start_time": "2024-12-17T16:19:44.948375Z"
        },
        "colab": {
          "base_uri": "https://localhost:8080/"
        },
        "id": "f1fab35680294aca",
        "outputId": "1cbdd8bc-5d26-4b2b-d227-3ff3b583d365"
      },
      "outputs": [
        {
          "data": {
            "text/plain": [
              "2875284"
            ]
          },
          "execution_count": 191,
          "metadata": {},
          "output_type": "execute_result"
        }
      ],
      "source": [
        "len(df[df['label']==0])"
      ]
    },
    {
      "cell_type": "markdown",
      "id": "d21189ebc9b6f62d",
      "metadata": {
        "id": "d21189ebc9b6f62d"
      },
      "source": [
        "# Significantly more of Non Ransomware\n",
        "\n"
      ]
    },
    {
      "cell_type": "code",
      "execution_count": 192,
      "id": "73818039920d604d",
      "metadata": {
        "ExecuteTime": {
          "end_time": "2024-12-17T16:19:45.140993Z",
          "start_time": "2024-12-17T16:19:45.136867Z"
        },
        "id": "73818039920d604d"
      },
      "outputs": [],
      "source": [
        "feature_with_label = df.columns\n",
        "feature_without_label = feature_with_label[:-1]"
      ]
    },
    {
      "cell_type": "code",
      "execution_count": 193,
      "id": "3cac30f510d5aeb",
      "metadata": {
        "ExecuteTime": {
          "end_time": "2024-12-17T16:19:45.227148Z",
          "start_time": "2024-12-17T16:19:45.179994Z"
        },
        "id": "3cac30f510d5aeb"
      },
      "outputs": [],
      "source": [
        "y = df['label']\n",
        "X = df.drop('label', axis=1)"
      ]
    },
    {
      "cell_type": "code",
      "execution_count": 194,
      "id": "2c0f0458e6eead1b",
      "metadata": {
        "ExecuteTime": {
          "end_time": "2024-12-17T16:19:45.252444Z",
          "start_time": "2024-12-17T16:19:45.248398Z"
        },
        "colab": {
          "base_uri": "https://localhost:8080/",
          "height": 206
        },
        "id": "2c0f0458e6eead1b",
        "outputId": "e27f31cc-6c3f-4ac5-8299-71dc2eba5710"
      },
      "outputs": [
        {
          "data": {
            "application/vnd.google.colaboratory.intrinsic+json": {
              "type": "dataframe",
              "variable_name": "X"
            },
            "text/html": [
              "\n",
              "  <div id=\"df-9127c4fa-0179-43b4-b6e5-69d8e3c906bd\" class=\"colab-df-container\">\n",
              "    <div>\n",
              "<style scoped>\n",
              "    .dataframe tbody tr th:only-of-type {\n",
              "        vertical-align: middle;\n",
              "    }\n",
              "\n",
              "    .dataframe tbody tr th {\n",
              "        vertical-align: top;\n",
              "    }\n",
              "\n",
              "    .dataframe thead th {\n",
              "        text-align: right;\n",
              "    }\n",
              "</style>\n",
              "<table border=\"1\" class=\"dataframe\">\n",
              "  <thead>\n",
              "    <tr style=\"text-align: right;\">\n",
              "      <th></th>\n",
              "      <th>address</th>\n",
              "      <th>year</th>\n",
              "      <th>day</th>\n",
              "      <th>length</th>\n",
              "      <th>weight</th>\n",
              "      <th>count</th>\n",
              "      <th>looped</th>\n",
              "      <th>neighbors</th>\n",
              "      <th>income</th>\n",
              "    </tr>\n",
              "  </thead>\n",
              "  <tbody>\n",
              "    <tr>\n",
              "      <th>0</th>\n",
              "      <td>111K8kZAEnJg245r2cM6y9zgJGHZtJPy6</td>\n",
              "      <td>2017</td>\n",
              "      <td>11</td>\n",
              "      <td>18</td>\n",
              "      <td>0.008333</td>\n",
              "      <td>1</td>\n",
              "      <td>0</td>\n",
              "      <td>2</td>\n",
              "      <td>100050000.0</td>\n",
              "    </tr>\n",
              "    <tr>\n",
              "      <th>1</th>\n",
              "      <td>1123pJv8jzeFQaCV4w644pzQJzVWay2zcA</td>\n",
              "      <td>2016</td>\n",
              "      <td>132</td>\n",
              "      <td>44</td>\n",
              "      <td>0.000244</td>\n",
              "      <td>1</td>\n",
              "      <td>0</td>\n",
              "      <td>1</td>\n",
              "      <td>100000000.0</td>\n",
              "    </tr>\n",
              "    <tr>\n",
              "      <th>2</th>\n",
              "      <td>112536im7hy6wtKbpH1qYDWtTyMRAcA2p7</td>\n",
              "      <td>2016</td>\n",
              "      <td>246</td>\n",
              "      <td>0</td>\n",
              "      <td>1.000000</td>\n",
              "      <td>1</td>\n",
              "      <td>0</td>\n",
              "      <td>2</td>\n",
              "      <td>200000000.0</td>\n",
              "    </tr>\n",
              "    <tr>\n",
              "      <th>3</th>\n",
              "      <td>1126eDRw2wqSkWosjTCre8cjjQW8sSeWH7</td>\n",
              "      <td>2016</td>\n",
              "      <td>322</td>\n",
              "      <td>72</td>\n",
              "      <td>0.003906</td>\n",
              "      <td>1</td>\n",
              "      <td>0</td>\n",
              "      <td>2</td>\n",
              "      <td>71200000.0</td>\n",
              "    </tr>\n",
              "    <tr>\n",
              "      <th>4</th>\n",
              "      <td>1129TSjKtx65E35GiUo4AYVeyo48twbrGX</td>\n",
              "      <td>2016</td>\n",
              "      <td>238</td>\n",
              "      <td>144</td>\n",
              "      <td>0.072848</td>\n",
              "      <td>456</td>\n",
              "      <td>0</td>\n",
              "      <td>1</td>\n",
              "      <td>200000000.0</td>\n",
              "    </tr>\n",
              "  </tbody>\n",
              "</table>\n",
              "</div>\n",
              "    <div class=\"colab-df-buttons\">\n",
              "\n",
              "  <div class=\"colab-df-container\">\n",
              "    <button class=\"colab-df-convert\" onclick=\"convertToInteractive('df-9127c4fa-0179-43b4-b6e5-69d8e3c906bd')\"\n",
              "            title=\"Convert this dataframe to an interactive table.\"\n",
              "            style=\"display:none;\">\n",
              "\n",
              "  <svg xmlns=\"http://www.w3.org/2000/svg\" height=\"24px\" viewBox=\"0 -960 960 960\">\n",
              "    <path d=\"M120-120v-720h720v720H120Zm60-500h600v-160H180v160Zm220 220h160v-160H400v160Zm0 220h160v-160H400v160ZM180-400h160v-160H180v160Zm440 0h160v-160H620v160ZM180-180h160v-160H180v160Zm440 0h160v-160H620v160Z\"/>\n",
              "  </svg>\n",
              "    </button>\n",
              "\n",
              "  <style>\n",
              "    .colab-df-container {\n",
              "      display:flex;\n",
              "      gap: 12px;\n",
              "    }\n",
              "\n",
              "    .colab-df-convert {\n",
              "      background-color: #E8F0FE;\n",
              "      border: none;\n",
              "      border-radius: 50%;\n",
              "      cursor: pointer;\n",
              "      display: none;\n",
              "      fill: #1967D2;\n",
              "      height: 32px;\n",
              "      padding: 0 0 0 0;\n",
              "      width: 32px;\n",
              "    }\n",
              "\n",
              "    .colab-df-convert:hover {\n",
              "      background-color: #E2EBFA;\n",
              "      box-shadow: 0px 1px 2px rgba(60, 64, 67, 0.3), 0px 1px 3px 1px rgba(60, 64, 67, 0.15);\n",
              "      fill: #174EA6;\n",
              "    }\n",
              "\n",
              "    .colab-df-buttons div {\n",
              "      margin-bottom: 4px;\n",
              "    }\n",
              "\n",
              "    [theme=dark] .colab-df-convert {\n",
              "      background-color: #3B4455;\n",
              "      fill: #D2E3FC;\n",
              "    }\n",
              "\n",
              "    [theme=dark] .colab-df-convert:hover {\n",
              "      background-color: #434B5C;\n",
              "      box-shadow: 0px 1px 3px 1px rgba(0, 0, 0, 0.15);\n",
              "      filter: drop-shadow(0px 1px 2px rgba(0, 0, 0, 0.3));\n",
              "      fill: #FFFFFF;\n",
              "    }\n",
              "  </style>\n",
              "\n",
              "    <script>\n",
              "      const buttonEl =\n",
              "        document.querySelector('#df-9127c4fa-0179-43b4-b6e5-69d8e3c906bd button.colab-df-convert');\n",
              "      buttonEl.style.display =\n",
              "        google.colab.kernel.accessAllowed ? 'block' : 'none';\n",
              "\n",
              "      async function convertToInteractive(key) {\n",
              "        const element = document.querySelector('#df-9127c4fa-0179-43b4-b6e5-69d8e3c906bd');\n",
              "        const dataTable =\n",
              "          await google.colab.kernel.invokeFunction('convertToInteractive',\n",
              "                                                    [key], {});\n",
              "        if (!dataTable) return;\n",
              "\n",
              "        const docLinkHtml = 'Like what you see? Visit the ' +\n",
              "          '<a target=\"_blank\" href=https://colab.research.google.com/notebooks/data_table.ipynb>data table notebook</a>'\n",
              "          + ' to learn more about interactive tables.';\n",
              "        element.innerHTML = '';\n",
              "        dataTable['output_type'] = 'display_data';\n",
              "        await google.colab.output.renderOutput(dataTable, element);\n",
              "        const docLink = document.createElement('div');\n",
              "        docLink.innerHTML = docLinkHtml;\n",
              "        element.appendChild(docLink);\n",
              "      }\n",
              "    </script>\n",
              "  </div>\n",
              "\n",
              "\n",
              "<div id=\"df-57e0e741-7568-49d2-8c88-89247bfbf026\">\n",
              "  <button class=\"colab-df-quickchart\" onclick=\"quickchart('df-57e0e741-7568-49d2-8c88-89247bfbf026')\"\n",
              "            title=\"Suggest charts\"\n",
              "            style=\"display:none;\">\n",
              "\n",
              "<svg xmlns=\"http://www.w3.org/2000/svg\" height=\"24px\"viewBox=\"0 0 24 24\"\n",
              "     width=\"24px\">\n",
              "    <g>\n",
              "        <path d=\"M19 3H5c-1.1 0-2 .9-2 2v14c0 1.1.9 2 2 2h14c1.1 0 2-.9 2-2V5c0-1.1-.9-2-2-2zM9 17H7v-7h2v7zm4 0h-2V7h2v10zm4 0h-2v-4h2v4z\"/>\n",
              "    </g>\n",
              "</svg>\n",
              "  </button>\n",
              "\n",
              "<style>\n",
              "  .colab-df-quickchart {\n",
              "      --bg-color: #E8F0FE;\n",
              "      --fill-color: #1967D2;\n",
              "      --hover-bg-color: #E2EBFA;\n",
              "      --hover-fill-color: #174EA6;\n",
              "      --disabled-fill-color: #AAA;\n",
              "      --disabled-bg-color: #DDD;\n",
              "  }\n",
              "\n",
              "  [theme=dark] .colab-df-quickchart {\n",
              "      --bg-color: #3B4455;\n",
              "      --fill-color: #D2E3FC;\n",
              "      --hover-bg-color: #434B5C;\n",
              "      --hover-fill-color: #FFFFFF;\n",
              "      --disabled-bg-color: #3B4455;\n",
              "      --disabled-fill-color: #666;\n",
              "  }\n",
              "\n",
              "  .colab-df-quickchart {\n",
              "    background-color: var(--bg-color);\n",
              "    border: none;\n",
              "    border-radius: 50%;\n",
              "    cursor: pointer;\n",
              "    display: none;\n",
              "    fill: var(--fill-color);\n",
              "    height: 32px;\n",
              "    padding: 0;\n",
              "    width: 32px;\n",
              "  }\n",
              "\n",
              "  .colab-df-quickchart:hover {\n",
              "    background-color: var(--hover-bg-color);\n",
              "    box-shadow: 0 1px 2px rgba(60, 64, 67, 0.3), 0 1px 3px 1px rgba(60, 64, 67, 0.15);\n",
              "    fill: var(--button-hover-fill-color);\n",
              "  }\n",
              "\n",
              "  .colab-df-quickchart-complete:disabled,\n",
              "  .colab-df-quickchart-complete:disabled:hover {\n",
              "    background-color: var(--disabled-bg-color);\n",
              "    fill: var(--disabled-fill-color);\n",
              "    box-shadow: none;\n",
              "  }\n",
              "\n",
              "  .colab-df-spinner {\n",
              "    border: 2px solid var(--fill-color);\n",
              "    border-color: transparent;\n",
              "    border-bottom-color: var(--fill-color);\n",
              "    animation:\n",
              "      spin 1s steps(1) infinite;\n",
              "  }\n",
              "\n",
              "  @keyframes spin {\n",
              "    0% {\n",
              "      border-color: transparent;\n",
              "      border-bottom-color: var(--fill-color);\n",
              "      border-left-color: var(--fill-color);\n",
              "    }\n",
              "    20% {\n",
              "      border-color: transparent;\n",
              "      border-left-color: var(--fill-color);\n",
              "      border-top-color: var(--fill-color);\n",
              "    }\n",
              "    30% {\n",
              "      border-color: transparent;\n",
              "      border-left-color: var(--fill-color);\n",
              "      border-top-color: var(--fill-color);\n",
              "      border-right-color: var(--fill-color);\n",
              "    }\n",
              "    40% {\n",
              "      border-color: transparent;\n",
              "      border-right-color: var(--fill-color);\n",
              "      border-top-color: var(--fill-color);\n",
              "    }\n",
              "    60% {\n",
              "      border-color: transparent;\n",
              "      border-right-color: var(--fill-color);\n",
              "    }\n",
              "    80% {\n",
              "      border-color: transparent;\n",
              "      border-right-color: var(--fill-color);\n",
              "      border-bottom-color: var(--fill-color);\n",
              "    }\n",
              "    90% {\n",
              "      border-color: transparent;\n",
              "      border-bottom-color: var(--fill-color);\n",
              "    }\n",
              "  }\n",
              "</style>\n",
              "\n",
              "  <script>\n",
              "    async function quickchart(key) {\n",
              "      const quickchartButtonEl =\n",
              "        document.querySelector('#' + key + ' button');\n",
              "      quickchartButtonEl.disabled = true;  // To prevent multiple clicks.\n",
              "      quickchartButtonEl.classList.add('colab-df-spinner');\n",
              "      try {\n",
              "        const charts = await google.colab.kernel.invokeFunction(\n",
              "            'suggestCharts', [key], {});\n",
              "      } catch (error) {\n",
              "        console.error('Error during call to suggestCharts:', error);\n",
              "      }\n",
              "      quickchartButtonEl.classList.remove('colab-df-spinner');\n",
              "      quickchartButtonEl.classList.add('colab-df-quickchart-complete');\n",
              "    }\n",
              "    (() => {\n",
              "      let quickchartButtonEl =\n",
              "        document.querySelector('#df-57e0e741-7568-49d2-8c88-89247bfbf026 button');\n",
              "      quickchartButtonEl.style.display =\n",
              "        google.colab.kernel.accessAllowed ? 'block' : 'none';\n",
              "    })();\n",
              "  </script>\n",
              "</div>\n",
              "\n",
              "    </div>\n",
              "  </div>\n"
            ],
            "text/plain": [
              "                              address  year  day  length    weight  count  \\\n",
              "0   111K8kZAEnJg245r2cM6y9zgJGHZtJPy6  2017   11      18  0.008333      1   \n",
              "1  1123pJv8jzeFQaCV4w644pzQJzVWay2zcA  2016  132      44  0.000244      1   \n",
              "2  112536im7hy6wtKbpH1qYDWtTyMRAcA2p7  2016  246       0  1.000000      1   \n",
              "3  1126eDRw2wqSkWosjTCre8cjjQW8sSeWH7  2016  322      72  0.003906      1   \n",
              "4  1129TSjKtx65E35GiUo4AYVeyo48twbrGX  2016  238     144  0.072848    456   \n",
              "\n",
              "   looped  neighbors       income  \n",
              "0       0          2  100050000.0  \n",
              "1       0          1  100000000.0  \n",
              "2       0          2  200000000.0  \n",
              "3       0          2   71200000.0  \n",
              "4       0          1  200000000.0  "
            ]
          },
          "execution_count": 194,
          "metadata": {},
          "output_type": "execute_result"
        }
      ],
      "source": [
        "X.head()"
      ]
    },
    {
      "cell_type": "code",
      "execution_count": 195,
      "id": "3fc72c5bfcfa0208",
      "metadata": {
        "ExecuteTime": {
          "end_time": "2024-12-17T16:19:45.845921Z",
          "start_time": "2024-12-17T16:19:45.330394Z"
        },
        "id": "3fc72c5bfcfa0208"
      },
      "outputs": [],
      "source": [
        "X_train, X_test, y_train, y_test = train_test_split(\n",
        "    X, y, test_size=0.20, random_state=42)"
      ]
    },
    {
      "cell_type": "code",
      "execution_count": 196,
      "id": "63e1c199d465d845",
      "metadata": {
        "ExecuteTime": {
          "end_time": "2024-12-17T16:23:16.635166Z",
          "start_time": "2024-12-17T16:23:12.575173Z"
        },
        "id": "63e1c199d465d845"
      },
      "outputs": [],
      "source": [
        "# rf = randomforestclassifier()\n",
        "# rf.fit(x_train, y_train)\n",
        "# model.fit(x_train, y_train)\n",
        "#\n",
        "# y_pred = rf.predict(x_test)"
      ]
    },
    {
      "cell_type": "markdown",
      "id": "5b796945187af26f",
      "metadata": {
        "id": "5b796945187af26f"
      },
      "source": [
        "## Encoding Data to be used as Numbers so we can run classifiers"
      ]
    },
    {
      "cell_type": "code",
      "execution_count": 197,
      "id": "2fdc8809a4a40b63",
      "metadata": {
        "ExecuteTime": {
          "end_time": "2024-12-17T16:19:52.102878Z",
          "start_time": "2024-12-17T16:19:46.049989Z"
        },
        "id": "2fdc8809a4a40b63"
      },
      "outputs": [],
      "source": [
        "label_encoder = LabelEncoder()\n",
        "\n",
        "X['address'] = label_encoder.fit_transform(X['address'])"
      ]
    },
    {
      "cell_type": "code",
      "execution_count": 198,
      "id": "e27df872ada31454",
      "metadata": {
        "ExecuteTime": {
          "end_time": "2024-12-17T16:19:52.577768Z",
          "start_time": "2024-12-17T16:19:52.166752Z"
        },
        "id": "e27df872ada31454"
      },
      "outputs": [],
      "source": [
        "X_train, X_test, y_train, y_test = train_test_split(\n",
        "    X, y, test_size=0.20, random_state=42)"
      ]
    },
    {
      "cell_type": "code",
      "execution_count": 199,
      "id": "bb0b7131d05a9c82",
      "metadata": {
        "ExecuteTime": {
          "end_time": "2024-12-17T16:19:52.685819Z",
          "start_time": "2024-12-17T16:19:52.594528Z"
        },
        "id": "bb0b7131d05a9c82"
      },
      "outputs": [],
      "source": [
        "rf = RandomForestClassifier()\n",
        "rf.fit(X_train[:1000], y_train[:1000])\n",
        "\n",
        "y_pred = rf.predict(X_test[:1000])"
      ]
    },
    {
      "cell_type": "code",
      "execution_count": 200,
      "id": "ab9896a788e98bc5",
      "metadata": {
        "ExecuteTime": {
          "end_time": "2024-12-17T16:19:52.730424Z",
          "start_time": "2024-12-17T16:19:52.723413Z"
        },
        "colab": {
          "base_uri": "https://localhost:8080/"
        },
        "id": "ab9896a788e98bc5",
        "outputId": "29edf032-4f86-4407-93a3-b5d62de04b4f"
      },
      "outputs": [
        {
          "name": "stderr",
          "output_type": "stream",
          "text": [
            "/usr/local/lib/python3.10/dist-packages/sklearn/metrics/_classification.py:1531: UndefinedMetricWarning: Precision is ill-defined and being set to 0.0 in labels with no predicted samples. Use `zero_division` parameter to control this behavior.\n",
            "  _warn_prf(average, modifier, f\"{metric.capitalize()} is\", len(result))\n",
            "/usr/local/lib/python3.10/dist-packages/sklearn/metrics/_classification.py:1531: UndefinedMetricWarning: Precision is ill-defined and being set to 0.0 in labels with no predicted samples. Use `zero_division` parameter to control this behavior.\n",
            "  _warn_prf(average, modifier, f\"{metric.capitalize()} is\", len(result))\n",
            "/usr/local/lib/python3.10/dist-packages/sklearn/metrics/_classification.py:1531: UndefinedMetricWarning: Precision is ill-defined and being set to 0.0 in labels with no predicted samples. Use `zero_division` parameter to control this behavior.\n",
            "  _warn_prf(average, modifier, f\"{metric.capitalize()} is\", len(result))\n"
          ]
        }
      ],
      "source": [
        "accuracy = accuracy_score(y_test[:1000], y_pred)\n",
        "report = classification_report(y_test[:1000], y_pred)\n",
        "\n",
        "mse = mean_squared_error(y_test[:1000], y_pred)"
      ]
    },
    {
      "cell_type": "code",
      "execution_count": 201,
      "id": "5141ccda61d8fefa",
      "metadata": {
        "ExecuteTime": {
          "end_time": "2024-12-17T16:19:52.746349Z",
          "start_time": "2024-12-17T16:19:52.744274Z"
        },
        "colab": {
          "base_uri": "https://localhost:8080/"
        },
        "id": "5141ccda61d8fefa",
        "outputId": "f465131c-8e04-4659-8c01-bb97963d535a"
      },
      "outputs": [
        {
          "name": "stdout",
          "output_type": "stream",
          "text": [
            "0.988\n"
          ]
        }
      ],
      "source": [
        "print(accuracy)"
      ]
    },
    {
      "cell_type": "code",
      "execution_count": 202,
      "id": "32de761b99e616b4",
      "metadata": {
        "ExecuteTime": {
          "end_time": "2024-12-17T16:19:52.778617Z",
          "start_time": "2024-12-17T16:19:52.776743Z"
        },
        "colab": {
          "base_uri": "https://localhost:8080/"
        },
        "id": "32de761b99e616b4",
        "outputId": "39a1624e-2121-420d-85e9-c3a73fe9a833"
      },
      "outputs": [
        {
          "name": "stdout",
          "output_type": "stream",
          "text": [
            "              precision    recall  f1-score   support\n",
            "\n",
            "           0       0.99      1.00      0.99       988\n",
            "           1       0.00      0.00      0.00        12\n",
            "\n",
            "    accuracy                           0.99      1000\n",
            "   macro avg       0.49      0.50      0.50      1000\n",
            "weighted avg       0.98      0.99      0.98      1000\n",
            "\n"
          ]
        }
      ],
      "source": [
        "print(report)"
      ]
    },
    {
      "cell_type": "code",
      "execution_count": 203,
      "id": "c7d2657a026557f1",
      "metadata": {
        "ExecuteTime": {
          "end_time": "2024-12-17T16:19:52.802036Z",
          "start_time": "2024-12-17T16:19:52.800314Z"
        },
        "colab": {
          "base_uri": "https://localhost:8080/"
        },
        "id": "c7d2657a026557f1",
        "outputId": "86ca5d70-4d6f-4dc7-a1f6-bf46aaf4fc23"
      },
      "outputs": [
        {
          "name": "stdout",
          "output_type": "stream",
          "text": [
            "0.012\n"
          ]
        }
      ],
      "source": [
        "print(mse)"
      ]
    },
    {
      "cell_type": "code",
      "execution_count": 204,
      "id": "8813d2d22c57a897",
      "metadata": {
        "ExecuteTime": {
          "end_time": "2024-12-17T16:19:52.916685Z",
          "start_time": "2024-12-17T16:19:52.848014Z"
        },
        "colab": {
          "base_uri": "https://localhost:8080/",
          "height": 564
        },
        "id": "8813d2d22c57a897",
        "outputId": "5ba33197-443f-49be-88c6-942ada7655a0"
      },
      "outputs": [
        {
          "data": {
            "image/png": "[encoded data removed]",
            "text/plain": [
              "<Figure size 800x600 with 1 Axes>"
            ]
          },
          "metadata": {},
          "output_type": "display_data"
        }
      ],
      "source": [
        "cm = confusion_matrix(y_test[:1000], y_pred)\n",
        "cm_df = pd.DataFrame(cm, index=['Actual Negative', 'Actual Positive'], columns=['Predicted Negative', 'Predicted Positive'])\n",
        "plt.figure(figsize=(8, 6))\n",
        "sns.heatmap(cm_df, annot=True, fmt='d', cmap='Blues', cbar=False)\n",
        "plt.title('Confusion Matrix')\n",
        "plt.xlabel('Predicted Labels')\n",
        "plt.ylabel('True Labels')\n",
        "plt.show()"
      ]
    },
    {
      "cell_type": "markdown",
      "id": "70987788f746f2e5",
      "metadata": {
        "id": "70987788f746f2e5"
      },
      "source": [
        "### As you can see in the Confusion Matrix there is so much more true negatives making the positives being predicted as pos"
      ]
    },
    {
      "cell_type": "code",
      "execution_count": 205,
      "id": "3c832f7caa460bb1",
      "metadata": {
        "ExecuteTime": {
          "end_time": "2024-12-17T16:19:52.941615Z",
          "start_time": "2024-12-17T16:19:52.939238Z"
        },
        "id": "3c832f7caa460bb1"
      },
      "outputs": [],
      "source": [
        "def split_data(df_total):\n",
        "    full_ransomware = df_total[df_total['label'] == 1]\n",
        "    full_non_ransomware = df_total[df_total['label'] == 0]\n",
        "\n",
        "    if len(full_ransomware) >= 1000:\n",
        "        ransomware_sample = full_ransomware.sample(n=1000, random_state=42)\n",
        "    else:\n",
        "        ransomware_sample = full_ransomware\n",
        "\n",
        "    if len(full_non_ransomware) >= 1000:\n",
        "        non_ransomware_sample = full_non_ransomware.sample(n=1000, random_state=42)\n",
        "    else:\n",
        "        non_ransomware_sample = full_non_ransomware\n",
        "\n",
        "    combined_df = pd.concat([ransomware_sample, non_ransomware_sample], ignore_index=True)\n",
        "\n",
        "    return combined_df.reset_index(drop=True)\n"
      ]
    },
    {
      "cell_type": "code",
      "execution_count": 206,
      "id": "1d912f8d3c47b229",
      "metadata": {
        "ExecuteTime": {
          "end_time": "2024-12-17T16:19:53.188893Z",
          "start_time": "2024-12-17T16:19:52.959777Z"
        },
        "id": "1d912f8d3c47b229"
      },
      "outputs": [],
      "source": [
        "sampled_df = split_data(df)"
      ]
    },
    {
      "cell_type": "code",
      "execution_count": 207,
      "id": "Mi4e0nYEaCTR",
      "metadata": {
        "id": "Mi4e0nYEaCTR"
      },
      "outputs": [],
      "source": [
        "sampled_df['address'] = label_encoder.fit_transform(sampled_df['address'])"
      ]
    },
    {
      "cell_type": "code",
      "execution_count": 208,
      "id": "yR0WZolAaEti",
      "metadata": {
        "colab": {
          "base_uri": "https://localhost:8080/",
          "height": 825
        },
        "id": "yR0WZolAaEti",
        "outputId": "60a74124-ac7c-4f30-af01-3e0ed66eaa9c"
      },
      "outputs": [
        {
          "data": {
            "image/png": "[encoded data removed]",
            "text/plain": [
              "<Figure size 1500x1000 with 2 Axes>"
            ]
          },
          "metadata": {},
          "output_type": "display_data"
        }
      ],
      "source": [
        "correlation_matrix = sampled_df[feature_without_label].corr()\n",
        "plt.figure(figsize=(15, 10))\n",
        "sns.heatmap(correlation_matrix, annot=True, cmap='coolwarm', fmt='.2f')\n",
        "\n",
        "plt.show()"
      ]
    },
    {
      "cell_type": "code",
      "execution_count": 209,
      "id": "_SRIJE82YJKt",
      "metadata": {
        "id": "_SRIJE82YJKt"
      },
      "outputs": [],
      "source": [
        "sampled_df = sampled_df.drop('length', axis=1)"
      ]
    },
    {
      "cell_type": "code",
      "execution_count": 210,
      "id": "44fe3518164a8ab6",
      "metadata": {
        "ExecuteTime": {
          "end_time": "2024-12-17T16:19:53.209673Z",
          "start_time": "2024-12-17T16:19:53.207451Z"
        },
        "colab": {
          "base_uri": "https://localhost:8080/"
        },
        "id": "44fe3518164a8ab6",
        "outputId": "7cb4b217-5256-4e62-bcab-321d43c5f637"
      },
      "outputs": [
        {
          "data": {
            "text/plain": [
              "2000"
            ]
          },
          "execution_count": 210,
          "metadata": {},
          "output_type": "execute_result"
        }
      ],
      "source": [
        "len(sampled_df)"
      ]
    },
    {
      "cell_type": "code",
      "execution_count": 211,
      "id": "480556977c26dc94",
      "metadata": {
        "ExecuteTime": {
          "end_time": "2024-12-17T16:19:53.234470Z",
          "start_time": "2024-12-17T16:19:53.228529Z"
        },
        "id": "480556977c26dc94"
      },
      "outputs": [],
      "source": [
        "y = sampled_df['label']\n",
        "X = sampled_df.drop('label', axis=1)"
      ]
    },
    {
      "cell_type": "code",
      "execution_count": 212,
      "id": "ff177e88e7019269",
      "metadata": {
        "ExecuteTime": {
          "end_time": "2024-12-17T16:19:53.279540Z",
          "start_time": "2024-12-17T16:19:53.251626Z"
        },
        "id": "ff177e88e7019269"
      },
      "outputs": [],
      "source": [
        "label_encoder = LabelEncoder()\n",
        "\n",
        "X['address'] = label_encoder.fit_transform(X['address'])"
      ]
    },
    {
      "cell_type": "code",
      "execution_count": 213,
      "id": "20c8333d5106d0a2",
      "metadata": {
        "ExecuteTime": {
          "end_time": "2024-12-17T16:19:53.310021Z",
          "start_time": "2024-12-17T16:19:53.296410Z"
        },
        "id": "20c8333d5106d0a2"
      },
      "outputs": [],
      "source": [
        "X_train, X_test, y_train, y_test = train_test_split(X, y, test_size=0.20, random_state=42)"
      ]
    },
    {
      "cell_type": "code",
      "execution_count": 214,
      "id": "a4d3de5a0a024d2c",
      "metadata": {
        "ExecuteTime": {
          "end_time": "2024-12-17T16:19:53.525616Z",
          "start_time": "2024-12-17T16:19:53.326685Z"
        },
        "id": "a4d3de5a0a024d2c"
      },
      "outputs": [],
      "source": [
        "rf = RandomForestClassifier()\n",
        "rf.fit(X_train, y_train)\n",
        "\n",
        "y_pred = rf.predict(X_test)"
      ]
    },
    {
      "cell_type": "code",
      "execution_count": 215,
      "id": "9861d837f6dd9295",
      "metadata": {
        "ExecuteTime": {
          "end_time": "2024-12-17T16:19:53.549439Z",
          "start_time": "2024-12-17T16:19:53.543103Z"
        },
        "id": "9861d837f6dd9295"
      },
      "outputs": [],
      "source": [
        "rf_accuracy = accuracy_score(y_test, y_pred) * 100\n",
        "report = classification_report(y_test, y_pred)\n",
        "\n",
        "mse = mean_squared_error(y_test, y_pred)"
      ]
    },
    {
      "cell_type": "code",
      "execution_count": 216,
      "id": "85bc578324859d6",
      "metadata": {
        "ExecuteTime": {
          "end_time": "2024-12-17T16:26:04.830477Z",
          "start_time": "2024-12-17T16:26:04.824156Z"
        },
        "colab": {
          "base_uri": "https://localhost:8080/"
        },
        "id": "85bc578324859d6",
        "outputId": "783b06d6-c20e-4eaf-a3b9-4e2bc4ba01ad"
      },
      "outputs": [
        {
          "name": "stdout",
          "output_type": "stream",
          "text": [
            "82.0\n"
          ]
        }
      ],
      "source": [
        "print(rf_accuracy)"
      ]
    },
    {
      "cell_type": "code",
      "execution_count": 217,
      "id": "ecce3378f0d155a6",
      "metadata": {
        "ExecuteTime": {
          "end_time": "2024-12-17T16:19:53.591352Z",
          "start_time": "2024-12-17T16:19:53.589674Z"
        },
        "colab": {
          "base_uri": "https://localhost:8080/"
        },
        "id": "ecce3378f0d155a6",
        "outputId": "b401b2b7-3a71-4ea8-9a4f-001d65494ce5"
      },
      "outputs": [
        {
          "name": "stdout",
          "output_type": "stream",
          "text": [
            "              precision    recall  f1-score   support\n",
            "\n",
            "           0       0.82      0.82      0.82       201\n",
            "           1       0.82      0.82      0.82       199\n",
            "\n",
            "    accuracy                           0.82       400\n",
            "   macro avg       0.82      0.82      0.82       400\n",
            "weighted avg       0.82      0.82      0.82       400\n",
            "\n"
          ]
        }
      ],
      "source": [
        "print(report)"
      ]
    },
    {
      "cell_type": "code",
      "execution_count": 218,
      "id": "71e21ecb793362ee",
      "metadata": {
        "ExecuteTime": {
          "end_time": "2024-12-17T16:19:53.617703Z",
          "start_time": "2024-12-17T16:19:53.615929Z"
        },
        "colab": {
          "base_uri": "https://localhost:8080/"
        },
        "id": "71e21ecb793362ee",
        "outputId": "8b90d3cb-03b0-4410-b562-2f73c3ca20d1"
      },
      "outputs": [
        {
          "name": "stdout",
          "output_type": "stream",
          "text": [
            "0.18\n"
          ]
        }
      ],
      "source": [
        "print(mse)"
      ]
    },
    {
      "cell_type": "code",
      "execution_count": 219,
      "id": "eb2118dc9e2b82f7",
      "metadata": {
        "ExecuteTime": {
          "end_time": "2024-12-17T16:19:53.692185Z",
          "start_time": "2024-12-17T16:19:53.639970Z"
        },
        "colab": {
          "base_uri": "https://localhost:8080/",
          "height": 564
        },
        "id": "eb2118dc9e2b82f7",
        "outputId": "804de4cb-00a2-4724-d968-4bead65b0103"
      },
      "outputs": [
        {
          "data": {
            "image/png": "[encoded data removed]",
            "text/plain": [
              "<Figure size 800x600 with 1 Axes>"
            ]
          },
          "metadata": {},
          "output_type": "display_data"
        }
      ],
      "source": [
        "cm = confusion_matrix(y_test, y_pred)\n",
        "cm_df = pd.DataFrame(cm, index=['Actual Negative', 'Actual Positive'], columns=['Predicted Negative', 'Predicted Positive'])\n",
        "plt.figure(figsize=(8, 6))\n",
        "sns.heatmap(cm_df, annot=True, fmt='d', cmap='Blues', cbar=False)\n",
        "plt.title('Confusion Matrix')\n",
        "plt.xlabel('Predicted Labels')\n",
        "plt.ylabel('True Labels')\n",
        "plt.show()"
      ]
    },
    {
      "cell_type": "code",
      "execution_count": 220,
      "id": "1c0baadb3b5760a0",
      "metadata": {
        "ExecuteTime": {
          "end_time": "2024-12-17T16:19:53.790684Z",
          "start_time": "2024-12-17T16:19:53.733555Z"
        },
        "colab": {
          "base_uri": "https://localhost:8080/",
          "height": 410
        },
        "id": "1c0baadb3b5760a0",
        "outputId": "bd8c7db5-aea8-4939-b946-d093f897c057"
      },
      "outputs": [
        {
          "data": {
            "image/png": "[encoded data removed]",
            "text/plain": [
              "<Figure size 800x400 with 1 Axes>"
            ]
          },
          "metadata": {},
          "output_type": "display_data"
        }
      ],
      "source": [
        "fpr, tpr, _ = roc_curve(y_test, y_pred)\n",
        "auc = roc_auc_score(y_test, y_pred)\n",
        "plt.figure(figsize=(8, 4))\n",
        "plt.plot(fpr, tpr, color='blue', lw=2, label=\"auc=\"+str(auc))\n",
        "plt.plot([0, 1], [0, 1], color='gray', linestyle='--')\n",
        "plt.title('ROC Curve')\n",
        "plt.xlabel('False Positive Rate')\n",
        "plt.ylabel('True Positive Rate')\n",
        "plt.legend()\n",
        "plt.grid(True)\n",
        "plt.show()"
      ]
    },
    {
      "cell_type": "code",
      "execution_count": 221,
      "id": "8ecff2e1be3f4ce4",
      "metadata": {
        "ExecuteTime": {
          "end_time": "2024-12-17T16:19:53.838165Z",
          "start_time": "2024-12-17T16:19:53.811075Z"
        },
        "id": "8ecff2e1be3f4ce4"
      },
      "outputs": [],
      "source": [
        "clf = LogisticRegression(random_state=0).fit(X, y)\n",
        "y_pred = clf.predict(X_test)"
      ]
    },
    {
      "cell_type": "code",
      "execution_count": 222,
      "id": "6ca28d0ece94c178",
      "metadata": {
        "ExecuteTime": {
          "end_time": "2024-12-17T16:19:53.904535Z",
          "start_time": "2024-12-17T16:19:53.885833Z"
        },
        "id": "6ca28d0ece94c178"
      },
      "outputs": [],
      "source": [
        "log_reg_accuracy = accuracy_score(y_test, y_pred) * 100\n",
        "report = classification_report(y_test, y_pred)\n",
        "\n",
        "mse = mean_squared_error(y_test, y_pred)"
      ]
    },
    {
      "cell_type": "code",
      "execution_count": 223,
      "id": "ba0a99fa39bafa56",
      "metadata": {
        "ExecuteTime": {
          "end_time": "2024-12-17T16:27:39.176071Z",
          "start_time": "2024-12-17T16:27:39.169189Z"
        },
        "colab": {
          "base_uri": "https://localhost:8080/"
        },
        "id": "ba0a99fa39bafa56",
        "outputId": "4f7c424a-9297-4797-e6a0-e9d3692f01d1"
      },
      "outputs": [
        {
          "name": "stdout",
          "output_type": "stream",
          "text": [
            "59.25\n"
          ]
        }
      ],
      "source": [
        "print(log_reg_accuracy)"
      ]
    },
    {
      "cell_type": "code",
      "execution_count": 224,
      "id": "5e2a012b30a7b1a6",
      "metadata": {
        "ExecuteTime": {
          "end_time": "2024-12-17T16:19:53.983666Z",
          "start_time": "2024-12-17T16:19:53.979609Z"
        },
        "colab": {
          "base_uri": "https://localhost:8080/"
        },
        "id": "5e2a012b30a7b1a6",
        "outputId": "49a6919b-c807-4789-be1c-4ca3f98c4c07"
      },
      "outputs": [
        {
          "name": "stdout",
          "output_type": "stream",
          "text": [
            "              precision    recall  f1-score   support\n",
            "\n",
            "           0       0.68      0.36      0.47       201\n",
            "           1       0.56      0.83      0.67       199\n",
            "\n",
            "    accuracy                           0.59       400\n",
            "   macro avg       0.62      0.59      0.57       400\n",
            "weighted avg       0.62      0.59      0.57       400\n",
            "\n"
          ]
        }
      ],
      "source": [
        "print(report)"
      ]
    },
    {
      "cell_type": "code",
      "execution_count": 225,
      "id": "49878361daf18b64",
      "metadata": {
        "ExecuteTime": {
          "end_time": "2024-12-17T16:19:54.019062Z",
          "start_time": "2024-12-17T16:19:54.015988Z"
        },
        "colab": {
          "base_uri": "https://localhost:8080/"
        },
        "id": "49878361daf18b64",
        "outputId": "c1457c40-0dea-40aa-a89a-2553860ec9e6"
      },
      "outputs": [
        {
          "name": "stdout",
          "output_type": "stream",
          "text": [
            "0.4075\n"
          ]
        }
      ],
      "source": [
        "print(mse)"
      ]
    },
    {
      "cell_type": "code",
      "execution_count": 226,
      "id": "d508f6b822744918",
      "metadata": {
        "ExecuteTime": {
          "end_time": "2024-12-17T16:19:54.113587Z",
          "start_time": "2024-12-17T16:19:54.051604Z"
        },
        "colab": {
          "base_uri": "https://localhost:8080/",
          "height": 564
        },
        "id": "d508f6b822744918",
        "outputId": "3fd5ee51-2c06-4efd-8bc1-c299635f7f0a"
      },
      "outputs": [
        {
          "data": {
            "image/png": "[encoded data removed]",
            "text/plain": [
              "<Figure size 800x600 with 1 Axes>"
            ]
          },
          "metadata": {},
          "output_type": "display_data"
        }
      ],
      "source": [
        "cm = confusion_matrix(y_test, y_pred)\n",
        "cm_df = pd.DataFrame(cm, index=['Actual Negative', 'Actual Positive'], columns=['Predicted Negative', 'Predicted Positive'])\n",
        "plt.figure(figsize=(8, 6))\n",
        "sns.heatmap(cm_df, annot=True, fmt='d', cmap='Blues', cbar=False)\n",
        "plt.title('Confusion Matrix')\n",
        "plt.xlabel('Predicted Labels')\n",
        "plt.ylabel('True Labels')\n",
        "plt.show()"
      ]
    },
    {
      "cell_type": "code",
      "execution_count": 227,
      "id": "1ff093223c6e67b0",
      "metadata": {
        "ExecuteTime": {
          "end_time": "2024-12-17T16:19:54.188933Z",
          "start_time": "2024-12-17T16:19:54.132771Z"
        },
        "colab": {
          "base_uri": "https://localhost:8080/",
          "height": 410
        },
        "id": "1ff093223c6e67b0",
        "outputId": "cc155464-57ce-44d1-e4fb-0e2199e440e4"
      },
      "outputs": [
        {
          "data": {
            "image/png": "[encoded data removed]",
            "text/plain": [
              "<Figure size 800x400 with 1 Axes>"
            ]
          },
          "metadata": {},
          "output_type": "display_data"
        }
      ],
      "source": [
        "fpr, tpr, _ = roc_curve(y_test, y_pred)\n",
        "auc = roc_auc_score(y_test, y_pred)\n",
        "plt.figure(figsize=(8, 4))\n",
        "plt.plot(fpr, tpr, color='blue', lw=2, label=\"auc=\"+str(auc))\n",
        "plt.plot([0, 1], [0, 1], color='gray', linestyle='--')\n",
        "plt.title('ROC Curve')\n",
        "plt.xlabel('False Positive Rate')\n",
        "plt.ylabel('True Positive Rate')\n",
        "plt.legend()\n",
        "plt.grid(True)\n",
        "plt.show()"
      ]
    },
    {
      "cell_type": "code",
      "execution_count": 228,
      "id": "2aae5f366a80b062",
      "metadata": {
        "ExecuteTime": {
          "end_time": "2024-12-17T16:19:54.223599Z",
          "start_time": "2024-12-17T16:19:54.208932Z"
        },
        "id": "2aae5f366a80b062"
      },
      "outputs": [],
      "source": [
        "knn = KNeighborsClassifier(n_neighbors=3)\n",
        "\n",
        "knn.fit(X, y)\n",
        "\n",
        "y_pred = knn.predict(X_test)"
      ]
    },
    {
      "cell_type": "code",
      "execution_count": 229,
      "id": "46bcdb35315de69a",
      "metadata": {
        "ExecuteTime": {
          "end_time": "2024-12-17T16:19:54.248502Z",
          "start_time": "2024-12-17T16:19:54.242655Z"
        },
        "id": "46bcdb35315de69a"
      },
      "outputs": [],
      "source": [
        "knn_accuracy = accuracy_score(y_test, y_pred)*100\n",
        "report = classification_report(y_test, y_pred)\n",
        "\n",
        "mse = mean_squared_error(y_test, y_pred)"
      ]
    },
    {
      "cell_type": "code",
      "execution_count": 230,
      "id": "bf246a1394e68248",
      "metadata": {
        "ExecuteTime": {
          "end_time": "2024-12-17T16:28:10.343865Z",
          "start_time": "2024-12-17T16:28:10.335848Z"
        },
        "colab": {
          "base_uri": "https://localhost:8080/"
        },
        "id": "bf246a1394e68248",
        "outputId": "8de3a0f2-1577-4308-adb7-d90ef595966b"
      },
      "outputs": [
        {
          "name": "stdout",
          "output_type": "stream",
          "text": [
            "81.75\n"
          ]
        }
      ],
      "source": [
        "print(knn_accuracy)"
      ]
    },
    {
      "cell_type": "code",
      "execution_count": 231,
      "id": "4af5677661e9c8c8",
      "metadata": {
        "ExecuteTime": {
          "end_time": "2024-12-17T16:19:54.292957Z",
          "start_time": "2024-12-17T16:19:54.291138Z"
        },
        "colab": {
          "base_uri": "https://localhost:8080/"
        },
        "id": "4af5677661e9c8c8",
        "outputId": "41682a01-4992-4f53-cdb6-4655f8788978"
      },
      "outputs": [
        {
          "name": "stdout",
          "output_type": "stream",
          "text": [
            "              precision    recall  f1-score   support\n",
            "\n",
            "           0       0.81      0.83      0.82       201\n",
            "           1       0.82      0.80      0.81       199\n",
            "\n",
            "    accuracy                           0.82       400\n",
            "   macro avg       0.82      0.82      0.82       400\n",
            "weighted avg       0.82      0.82      0.82       400\n",
            "\n"
          ]
        }
      ],
      "source": [
        "print(report)"
      ]
    },
    {
      "cell_type": "code",
      "execution_count": 232,
      "id": "a9186f9b1a46641b",
      "metadata": {
        "ExecuteTime": {
          "end_time": "2024-12-17T16:19:54.313609Z",
          "start_time": "2024-12-17T16:19:54.311884Z"
        },
        "colab": {
          "base_uri": "https://localhost:8080/"
        },
        "id": "a9186f9b1a46641b",
        "outputId": "1cf1bf75-8b61-4a78-f507-1bcf7a0ebea8"
      },
      "outputs": [
        {
          "name": "stdout",
          "output_type": "stream",
          "text": [
            "0.1825\n"
          ]
        }
      ],
      "source": [
        "print(mse)"
      ]
    },
    {
      "cell_type": "code",
      "execution_count": 233,
      "id": "506c52fdb9d628f9",
      "metadata": {
        "ExecuteTime": {
          "end_time": "2024-12-17T16:19:54.384871Z",
          "start_time": "2024-12-17T16:19:54.333331Z"
        },
        "colab": {
          "base_uri": "https://localhost:8080/",
          "height": 564
        },
        "id": "506c52fdb9d628f9",
        "outputId": "8d5a0ec2-7025-4ccb-eccd-b64ebd59a36a"
      },
      "outputs": [
        {
          "data": {
            "image/png": "[encoded data removed]",
            "text/plain": [
              "<Figure size 800x600 with 1 Axes>"
            ]
          },
          "metadata": {},
          "output_type": "display_data"
        }
      ],
      "source": [
        "cm = confusion_matrix(y_test, y_pred)\n",
        "cm_df = pd.DataFrame(cm, index=['Actual Negative', 'Actual Positive'], columns=['Predicted Negative', 'Predicted Positive'])\n",
        "plt.figure(figsize=(8, 6))\n",
        "sns.heatmap(cm_df, annot=True, fmt='d', cmap='Blues', cbar=False)\n",
        "plt.title('Confusion Matrix')\n",
        "plt.xlabel('Predicted Labels')\n",
        "plt.ylabel('True Labels')\n",
        "plt.show()"
      ]
    },
    {
      "cell_type": "code",
      "execution_count": 234,
      "id": "636aa113771d69c7",
      "metadata": {
        "ExecuteTime": {
          "end_time": "2024-12-17T16:19:54.460069Z",
          "start_time": "2024-12-17T16:19:54.403876Z"
        },
        "colab": {
          "base_uri": "https://localhost:8080/",
          "height": 410
        },
        "id": "636aa113771d69c7",
        "outputId": "c3814e7b-25a8-4cee-f7e8-d4d776f72a66"
      },
      "outputs": [
        {
          "data": {
            "image/png": "[encoded data removed]",
            "text/plain": [
              "<Figure size 800x400 with 1 Axes>"
            ]
          },
          "metadata": {},
          "output_type": "display_data"
        }
      ],
      "source": [
        "fpr, tpr, _ = roc_curve(y_test, y_pred)\n",
        "auc = roc_auc_score(y_test, y_pred)\n",
        "plt.figure(figsize=(8, 4))\n",
        "plt.plot(fpr, tpr, color='blue', lw=2, label=\"auc=\"+str(auc))\n",
        "plt.plot([0, 1], [0, 1], color='gray', linestyle='--')\n",
        "plt.title('ROC Curve')\n",
        "plt.xlabel('False Positive Rate')\n",
        "plt.ylabel('True Positive Rate')\n",
        "plt.legend()\n",
        "plt.grid(True)\n",
        "plt.show()"
      ]
    },
    {
      "cell_type": "code",
      "execution_count": 235,
      "id": "dd188802a4450285",
      "metadata": {
        "ExecuteTime": {
          "end_time": "2024-12-17T16:19:54.533258Z",
          "start_time": "2024-12-17T16:19:54.479439Z"
        },
        "colab": {
          "base_uri": "https://localhost:8080/",
          "height": 472
        },
        "id": "dd188802a4450285",
        "outputId": "86281f3f-4d4a-4427-82a0-23b9888f2c8e"
      },
      "outputs": [
        {
          "data": {
            "image/png": "[encoded data removed]",
            "text/plain": [
              "<Figure size 640x480 with 1 Axes>"
            ]
          },
          "metadata": {},
          "output_type": "display_data"
        }
      ],
      "source": [
        "categories = ['Random Forest', 'Logistic Regression', 'k-NN']\n",
        "values = [rf_accuracy, log_reg_accuracy, knn_accuracy]\n",
        "\n",
        "plt.bar(categories, values)\n",
        "\n",
        "plt.xlabel('Classifiers')\n",
        "plt.ylabel('Accuracy')\n",
        "plt.title('Classifier Accuracy Comparison')\n",
        "\n",
        "plt.show()"
      ]
    }
  ],
  "metadata": {
    "accelerator": "GPU",
    "colab": {
      "gpuType": "T4",
      "provenance": []
    },
    "kernelspec": {
      "display_name": "Python 3",
      "name": "python3"
    },
    "language_info": {
      "codemirror_mode": {
        "name": "ipython",
        "version": 2
      },
      "file_extension": ".py",
      "mimetype": "text/x-python",
      "name": "python",
      "nbconvert_exporter": "python",
      "pygments_lexer": "ipython2",
      "version": "2.7.6"
    }
  },
  "nbformat": 4,
  "nbformat_minor": 5
}
